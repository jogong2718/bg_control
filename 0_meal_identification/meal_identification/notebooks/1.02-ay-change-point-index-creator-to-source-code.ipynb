{
 "cells": [
  {
   "cell_type": "markdown",
   "metadata": {},
   "source": [
    "# Change Point Index Creator and Day Splitter"
   ]
  },
  {
   "cell_type": "markdown",
   "metadata": {},
   "source": [
    "## Dataset Creator"
   ]
  },
  {
   "cell_type": "code",
   "execution_count": 1,
   "metadata": {},
   "outputs": [],
   "source": [
    "import sys\n",
    "import os\n",
    "\n",
    "sys.path.append(os.path.abspath(\"../meal_identification/datasets\"))\n",
    "\n",
    "from dataset_generator import *"
   ]
  },
  {
   "cell_type": "markdown",
   "metadata": {},
   "source": [
    "### Dataset Creator Demo"
   ]
  },
  {
   "cell_type": "code",
   "execution_count": 2,
   "metadata": {},
   "outputs": [
    {
     "name": "stdout",
     "output_type": "stream",
     "text": [
      "Loaded DataFrames: ['500030_2024-07-01_2024-09-30.csv', '679372_2024-07-01_2024-09-30.csv']\n",
      "\n",
      "========================= \n",
      "Processing: 500030\n",
      "Columns after coercing time: ['bgl', 'msg_type', 'affects_fob', 'affects_iob', 'dose_units', 'food_g', 'food_glycemic_index', 'food_g_keep', 'date']\n",
      "Erasing meal overlap with minCarb 10g and 3hr meal window\n",
      "Data saved successfully in: 0_meal_identification/meal_identification/data/interim\n",
      "\n",
      " \t Dataset label: 2024-11-07_500030__timeInter5mins_dayStart4hrs_minCarb10g_3hrMealW.csv\n",
      "\n",
      "========================= \n",
      "Processing: 679372\n",
      "Columns after coercing time: ['bgl', 'msg_type', 'affects_fob', 'affects_iob', 'dose_units', 'food_g', 'food_glycemic_index', 'food_g_keep', 'date']\n",
      "Erasing meal overlap with minCarb 10g and 3hr meal window\n",
      "No 'ANNOUNCE_MEAL' events to process for top N meals.\n",
      "Data saved successfully in: 0_meal_identification/meal_identification/data/interim\n",
      "\n",
      " \t Dataset label: 2024-11-07_679372__timeInter5mins_dayStart4hrs_minCarb10g_3hrMealW.csv\n",
      "\n",
      "\n",
      "All data saved successfully in: 0_meal_identification/meal_identification/data/interim\n"
     ]
    }
   ],
   "source": [
    "result_df = dataset_creator(return_data=True)\n",
    "walker_df = result_df[0]\n",
    "christopher_df = result_df[1]"
   ]
  },
  {
   "cell_type": "markdown",
   "metadata": {},
   "source": [
    "### Explanation\n",
    "\n",
    "Below we see Walker and Christopher's data for their first 21 meal annoucements in the dataset, notice that they should typically be larger meals and there should not be more than 3 meals per day."
   ]
  },
  {
   "cell_type": "code",
   "execution_count": null,
   "metadata": {},
   "outputs": [],
   "source": [
    "walker_df[walker_df['msg_type'] == 'ANNOUNCE_MEAL'][0:21]"
   ]
  },
  {
   "cell_type": "code",
   "execution_count": null,
   "metadata": {},
   "outputs": [],
   "source": [
    "christopher_df[christopher_df['msg_type'] == 'ANNOUNCE_MEAL'][0:21]"
   ]
  },
  {
   "cell_type": "markdown",
   "metadata": {},
   "source": [
    "### Meal Annoucement Histograms"
   ]
  },
  {
   "cell_type": "markdown",
   "metadata": {},
   "source": [
    "### Meal Distribution Times"
   ]
  },
  {
   "cell_type": "code",
   "execution_count": null,
   "metadata": {},
   "outputs": [],
   "source": [
    "plot_announce_meal_histogram(walker_df, hours_or_15minutes='hours')\n",
    "plot_announce_meal_histogram(walker_df, hours_or_15minutes='minutes')"
   ]
  },
  {
   "cell_type": "code",
   "execution_count": null,
   "metadata": {},
   "outputs": [],
   "source": [
    "plot_announce_meal_histogram(christopher_df, hours_or_15minutes='hours')\n",
    "plot_announce_meal_histogram(christopher_df, hours_or_15minutes='minutes')"
   ]
  },
  {
   "cell_type": "markdown",
   "metadata": {},
   "source": [
    "## Dataset Creation Loop - Hyperparameters\n",
    "\n"
   ]
  },
  {
   "cell_type": "code",
   "execution_count": null,
   "metadata": {},
   "outputs": [],
   "source": [
    "from sklearn.model_selection import ParameterGrid\n",
    "\n",
    "# Define the hyperparameter grid\n",
    "param_grid = {\n",
    "    'meal_length_window': [2, 3, 5],\n",
    "    'n_top_carb_meals': [3, 4],\n",
    "    'min_carbs': [5, 10]\n",
    "}\n",
    "\n",
    "# Create the grid of hyperparameter settings\n",
    "grid = ParameterGrid(param_grid)\n",
    "\n",
    "# Print the grid\n",
    "for params in grid:\n",
    "    print(params)"
   ]
  },
  {
   "cell_type": "code",
   "execution_count": null,
   "metadata": {},
   "outputs": [],
   "source": [
    "for ds_config in grid:\n",
    "    print(ds_config)\n",
    "    dataset_creator(meal_length=pd.Timedelta(hours=ds_config['meal_length_window']),\n",
    "                    n_top_carb_meals=ds_config['n_top_carb_meals'],\n",
    "                    min_carbs=ds_config['min_carbs'],\n",
    "                    return_data=False)"
   ]
  }
 ],
 "metadata": {
  "kernelspec": {
   "display_name": "Python 3",
   "language": "python",
   "name": "python3"
  },
  "language_info": {
   "codemirror_mode": {
    "name": "ipython",
    "version": 3
   },
   "file_extension": ".py",
   "mimetype": "text/x-python",
   "name": "python",
   "nbconvert_exporter": "python",
   "pygments_lexer": "ipython3",
   "version": "3.9.13"
  }
 },
 "nbformat": 4,
 "nbformat_minor": 2
}
