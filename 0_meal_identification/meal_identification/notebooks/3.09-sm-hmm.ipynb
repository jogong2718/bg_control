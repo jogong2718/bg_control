{
 "cells": [
  {
   "cell_type": "markdown",
   "metadata": {},
   "source": [
    "\n",
    "### HMM\n",
    "This is a simplified version of CategoricalHMM. I chose to do a heat map at the end to visualize the models results"
   ]
  },
  {
   "cell_type": "markdown",
   "metadata": {},
   "source": [
    "Source: I used this guide as a source to create this model: https://www.geeksforgeeks.org/hidden-markov-model-in-machine-learning/\n",
    "1. Define the state space and observation space\n",
    "\n",
    "State space: Blood glucose levels, with different categories such as high, normal, and low\n",
    "Observations: Insulin on board (IOB)\n",
    "Transitions: Transitions between normal, high, and low based on IOB"
   ]
  },
  {
   "cell_type": "markdown",
   "metadata": {},
   "source": [
    "### Pre Process Data"
   ]
  },
  {
   "cell_type": "code",
   "execution_count": 9,
   "metadata": {},
   "outputs": [],
   "source": [
    "import pandas as pd\n",
    "import numpy as np\n",
    "\n",
    "# Load the data\n",
    "file_path = '../data/interim/2024-10-24_500030__timeInter5mins_dayStart4hrs_minCarb5g_5hrMealW.csv'\n",
    "df = pd.read_csv(file_path)\n",
    "\n",
    "# Define BG thresholds\n",
    "low_bg = 70\n",
    "high_bg = 180\n",
    "\n",
    "# Define IOB thresholds (assuming dose_units represents IOB)\n",
    "low_iob = 0\n",
    "medium_iob = 2\n",
    "high_iob = 5\n",
    "\n",
    "# Classify BG into states\n",
    "def classify_bg(bgl):\n",
    "    if pd.isna(bgl):\n",
    "        return np.nan\n",
    "    elif bgl < low_bg:\n",
    "        return 0  # Low\n",
    "    elif bgl <= high_bg:\n",
    "        return 1  # Normal\n",
    "    else:\n",
    "        return 2  # High\n",
    "\n",
    "df['bg_state'] = df['bgl'].apply(classify_bg)\n",
    "\n",
    "# Classify IOB into observations\n",
    "def classify_iob(iob):\n",
    "    if pd.isna(iob) or iob == 0:\n",
    "        return 0  # No IOB\n",
    "    elif iob <= medium_iob:\n",
    "        return 1  # Low IOB\n",
    "    elif iob <= high_iob:\n",
    "        return 2  # Medium IOB\n",
    "    else:\n",
    "        return 3  # High IOB\n",
    "\n",
    "df['iob_obs'] = df['dose_units'].apply(classify_iob)\n"
   ]
  },
  {
   "cell_type": "markdown",
   "metadata": {},
   "source": [
    "Initialize State Probabilities -\n",
    "Based on the BG state, calculate probability of each state to start on low, high, or normal range."
   ]
  },
  {
   "cell_type": "code",
   "execution_count": 10,
   "metadata": {},
   "outputs": [],
   "source": [
    "# Initial state probabilities\n",
    "initial_state_counts = df['bg_state'].value_counts(normalize=True)\n",
    "initial_probs = initial_state_counts.sort_index().values  # Ensure order matches state indices\n"
   ]
  },
  {
   "cell_type": "markdown",
   "metadata": {},
   "source": [
    "Compute Transition Probabilities - Using the values found in the previous, and introducing IOB, find the likelihood of transitions."
   ]
  },
  {
   "cell_type": "code",
   "execution_count": null,
   "metadata": {},
   "outputs": [],
   "source": [
    "df_clean = df.dropna(subset=['bg_state'])\n",
    "\n",
    "states = df_clean['bg_state'].tolist()\n",
    "\n",
    "# Initialize transition matrix\n",
    "num_states = 3  # Low, Normal, High\n",
    "transition_matrix = np.zeros((num_states, num_states))\n",
    "\n",
    "# Populate transition counts\n",
    "for (s1, s2) in zip(states[:-1], states[1:]):\n",
    "    transition_matrix[int(s1), int(s2)] += 1\n",
    "\n",
    "# Convert counts to probabilities\n",
    "transition_probs = transition_matrix / transition_matrix.sum(axis=1, keepdims=True)\n"
   ]
  },
  {
   "cell_type": "code",
   "execution_count": 12,
   "metadata": {},
   "outputs": [],
   "source": [
    "# Remove NaN values\n",
    "df_emission = df.dropna(subset=['bg_state', 'iob_obs'])\n",
    "\n",
    "# Initialize emission matrix\n",
    "num_observations = 4  # No IOB, Low IOB, Medium IOB, High IOB\n",
    "emission_matrix = np.zeros((num_states, num_observations))\n",
    "\n",
    "# Populate emission counts\n",
    "for state, obs in zip(df_emission['bg_state'], df_emission['iob_obs']):\n",
    "    emission_matrix[int(state), int(obs)] += 1\n",
    "\n",
    "# Convert counts to probabilities\n",
    "emission_probs = emission_matrix / emission_matrix.sum(axis=1, keepdims=True)\n"
   ]
  },
  {
   "cell_type": "markdown",
   "metadata": {},
   "source": [
    "### Create and train the model"
   ]
  },
  {
   "cell_type": "code",
   "execution_count": 14,
   "metadata": {},
   "outputs": [
    {
     "name": "stderr",
     "output_type": "stream",
     "text": [
      "/var/folders/by/vymnlz4s25b64sgh9j3_nmb40000gn/T/ipykernel_48456/663737217.py:21: SettingWithCopyWarning: \n",
      "A value is trying to be set on a copy of a slice from a DataFrame.\n",
      "Try using .loc[row_indexer,col_indexer] = value instead\n",
      "\n",
      "See the caveats in the documentation: https://pandas.pydata.org/pandas-docs/stable/user_guide/indexing.html#returning-a-view-versus-a-copy\n",
      "  df_emission['predicted_bg_state'] = hidden_states\n"
     ]
    }
   ],
   "source": [
    "from hmmlearn import hmm\n",
    "\n",
    "# Define the model\n",
    "model = hmm.CategoricalHMM(n_components=num_states, n_iter=100, tol=0.01, init_params='')\n",
    "\n",
    "# Set the estimated parameters\n",
    "model.startprob_ = initial_probs\n",
    "model.transmat_ = transition_probs\n",
    "model.emissionprob_ = emission_probs\n",
    "\n",
    "# Prepare the observation sequence\n",
    "observations = df_emission['iob_obs'].astype(int).values.reshape(-1, 1)\n",
    "\n",
    "# Fit the model (optional, since we already set parameters)\n",
    "# model.fit(observations)\n",
    "\n",
    "# Decode the hidden states\n",
    "logprob, hidden_states = model.decode(observations, algorithm=\"viterbi\")\n",
    "\n",
    "# Add hidden states to DataFrame\n",
    "df_emission['predicted_bg_state'] = hidden_states\n"
   ]
  },
  {
   "cell_type": "code",
   "execution_count": 22,
   "metadata": {},
   "outputs": [
    {
     "name": "stdout",
     "output_type": "stream",
     "text": [
      "Model Accuracy: 0.91\n"
     ]
    }
   ],
   "source": [
    "# Calculate accuracy\n",
    "accuracy = (df_emission['bg_state'] == df_emission['predicted_bg_state']).mean()\n",
    "print(f\"Model Accuracy: {accuracy:.2f}\")\n",
    "\n"
   ]
  },
  {
   "cell_type": "code",
   "execution_count": 17,
   "metadata": {},
   "outputs": [
    {
     "name": "stdout",
     "output_type": "stream",
     "text": [
      "Transition Probabilities with IOB present:\n",
      "[[0.         1.         0.        ]\n",
      " [0.01333333 0.89142857 0.0952381 ]\n",
      " [0.02739726 0.65753425 0.31506849]]\n"
     ]
    }
   ],
   "source": [
    "# Separate data where IOB is present\n",
    "df_iob_present = df_emission[df_emission['iob_obs'] > 0]\n",
    "\n",
    "# Extract states and observations\n",
    "states_iob = df_iob_present['bg_state'].tolist()\n",
    "\n",
    "# Initialize transition matrix for IOB present\n",
    "transition_matrix_iob = np.zeros((num_states, num_states))\n",
    "\n",
    "# Populate transition counts\n",
    "for (s1, s2) in zip(states_iob[:-1], states_iob[1:]):\n",
    "    transition_matrix_iob[int(s1), int(s2)] += 1\n",
    "\n",
    "# Convert counts to probabilities\n",
    "transition_probs_iob = transition_matrix_iob / transition_matrix_iob.sum(axis=1, keepdims=True)\n",
    "\n",
    "print(\"Transition Probabilities with IOB present:\")\n",
    "print(transition_probs_iob)\n"
   ]
  },
  {
   "cell_type": "markdown",
   "metadata": {},
   "source": [
    "### Display the data\n",
    "\n",
    "I used a heat map to show the difference, and explained a bit below."
   ]
  },
  {
   "cell_type": "code",
   "execution_count": 19,
   "metadata": {},
   "outputs": [
    {
     "data": {
      "image/png": "[encoded data removed]",
      "text/plain": [
       "<Figure size 1200x500 with 4 Axes>"
      ]
     },
     "metadata": {},
     "output_type": "display_data"
    }
   ],
   "source": [
    "import seaborn as sns\n",
    "import matplotlib.pyplot as plt\n",
    "\n",
    "# Create a DataFrame for transition probabilities\n",
    "trans_probs_df = pd.DataFrame(transition_probs, columns=['Low', 'Normal', 'High'], index=['Low', 'Normal', 'High'])\n",
    "trans_probs_iob_df = pd.DataFrame(transition_probs_iob, columns=['Low', 'Normal', 'High'], index=['Low', 'Normal', 'High'])\n",
    "\n",
    "# Plot heatmaps\n",
    "plt.figure(figsize=(12, 5))\n",
    "\n",
    "plt.subplot(1, 2, 1)\n",
    "sns.heatmap(trans_probs_df, annot=True, cmap='Blues')\n",
    "plt.title('Overall Transition Probabilities')\n",
    "\n",
    "plt.subplot(1, 2, 2)\n",
    "sns.heatmap(trans_probs_iob_df, annot=True, cmap='Greens')\n",
    "plt.title('Transition Probabilities with IOB')\n",
    "\n",
    "plt.show()"
   ]
  },
  {
   "cell_type": "markdown",
   "metadata": {},
   "source": [
    "Results: This is the likelihood that a state will transition from a certain state (Y axis) to another state (X axis) when IOB. The first state is given as reference."
   ]
  }
 ],
 "metadata": {
  "kernelspec": {
   "display_name": "Python 3",
   "language": "python",
   "name": "python3"
  },
  "language_info": {
   "codemirror_mode": {
    "name": "ipython",
    "version": 3
   },
   "file_extension": ".py",
   "mimetype": "text/x-python",
   "name": "python",
   "nbconvert_exporter": "python",
   "pygments_lexer": "ipython3",
   "version": "3.10.6"
  }
 },
 "nbformat": 4,
 "nbformat_minor": 2
}
